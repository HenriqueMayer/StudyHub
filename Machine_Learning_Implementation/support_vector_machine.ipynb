{
 "cells": [
  {
   "cell_type": "markdown",
   "metadata": {},
   "source": [
    "# Support Vector Machine (SVM)\n",
    "\n",
    "Support Vector Machines (SVMs) are supervised learning models used primarily for classification tasks. They work by finding a hyperplane (decision boundary) that best separates the data into classes. The key idea is to maximize the margin—the distance between the hyperplane and the closest data points from each class.\n",
    "\n",
    "## Overview\n",
    "\n",
    "- **Goal:** Find the optimal linear decision boundary that separates the classes.\n",
    "- **Key Principle:** Maximize the margin between the classes.\n",
    "- **Advantages:** Robust to overfitting, especially in high-dimensional spaces.\n",
    "- **Applications:** Text classification, image recognition, bioinformatics, etc.\n",
    "\n",
    "## Intuition\n",
    "\n",
    "Imagine you have two classes of points in a 2D space. An SVM looks for the line (or hyperplane in higher dimensions) that not only separates these classes but also stays as far away as possible from the nearest points of both classes. These closest points are called *support vectors*, and they directly influence the position and orientation of the hyperplane.\n",
    "\n",
    "## Mathematical Formulation\n",
    "\n",
    "Given a set of training examples \\((\\mathbf{x}_i, y_i)\\) where \\(\\mathbf{x}_i \\in \\mathbb{R}^n\\) and \\(y_i \\in \\{-1, +1\\}\\), the goal is to find the weight vector \\(\\mathbf{w}\\) and bias \\(b\\) such that the decision function:\n",
    "\n",
    "$$\n",
    "f(\\mathbf{x}) = \\mathbf{w}^\\top \\mathbf{x} + b\n",
    "$$\n",
    "\n",
    "correctly classifies the data. The ideal hyperplane satisfies:\n",
    "\n",
    "$$\n",
    "y_i (\\mathbf{w}^\\top \\mathbf{x}_i + b) \\geq 1 \\quad \\forall i\n",
    "$$\n",
    "\n",
    "and the optimization problem is formulated as:\n",
    "\n",
    "$$\n",
    "\\min_{\\mathbf{w}, b} \\quad \\frac{1}{2} \\|\\mathbf{w}\\|^2\n",
    "$$\n",
    "\n",
    "subject to the constraints above. Minimizing \\(\\frac{1}{2} \\|\\mathbf{w}\\|^2\\) maximizes the margin between the classes.\n",
    "\n",
    "## Hinge Loss\n",
    "\n",
    "In practice, especially when data are not perfectly linearly separable, SVMs use the hinge loss to penalize misclassified points and those that fall within the margin:\n",
    "\n",
    "$$\n",
    "\\text{Loss} = \\max(0, 1 - y_i (\\mathbf{w}^\\top \\mathbf{x}_i + b))\n",
    "$$\n",
    "\n",
    "This loss function ensures that only points violating the margin (or misclassified) contribute to the loss, allowing the model some flexibility with noisy or overlapping data.\n",
    "\n",
    "## Regularization\n",
    "\n",
    "To prevent overfitting and control model complexity, a regularization term is added. The regularized optimization problem becomes:\n",
    "\n",
    "$$\n",
    "\\min_{\\mathbf{w}, b} \\quad \\frac{1}{2} \\|\\mathbf{w}\\|^2 + C \\sum_{i=1}^{N} \\max(0, 1 - y_i (\\mathbf{w}^\\top \\mathbf{x}_i + b))\n",
    "$$\n",
    "\n",
    "Here, \\(C\\) is a hyperparameter that controls the trade-off between maximizing the margin and minimizing the classification error."
   ]
  },
  {
   "cell_type": "code",
   "execution_count": 3,
   "metadata": {},
   "outputs": [],
   "source": [
    "import numpy as np"
   ]
  },
  {
   "cell_type": "code",
   "execution_count": 4,
   "metadata": {},
   "outputs": [],
   "source": [
    "class SVM:\n",
    "    def __init__(self, lr=0.001, lambda_param=0.01, n_iters=1000):\n",
    "        self.lr = lr\n",
    "        self.lambda_param = lambda_param\n",
    "        self.n_iters = n_iters\n",
    "        self.w = None\n",
    "        self.b = None\n",
    "\n",
    "    def fit(self, X, y):\n",
    "        n_samples, n_features = X.shape\n",
    "\n",
    "        y_ = np.where(y <= 0, -1, 1)\n",
    "\n",
    "        # init the weights\n",
    "        self.w = np.zeros(n_features)\n",
    "        self.b = 0\n",
    "\n",
    "        for _ in range(self.n_iters):\n",
    "            for idx, x_i in enumerate(X):\n",
    "                condition = y_[idx] * (np.dot(x_i, self.w) - self.b) >= 1\n",
    "                if condition:\n",
    "                    self.w -= self.lr * (2 * self.lambda_param * self.w)\n",
    "                else:\n",
    "                    self.w -= self.lr * (2 * self.lambda_param * self.w - np.dot(x_i, y_[idx]))\n",
    "                    self.b -= self.lr * y_[idx]\n",
    "\n",
    "    def predict(self, X):\n",
    "        approx = np.dot(X, self.w) - self.b\n",
    "        return np.sign(approx) \n"
   ]
  },
  {
   "cell_type": "code",
   "execution_count": 5,
   "metadata": {},
   "outputs": [],
   "source": [
    "from sklearn.model_selection import train_test_split\n",
    "from sklearn import datasets\n",
    "import matplotlib.pyplot as plt"
   ]
  },
  {
   "cell_type": "code",
   "execution_count": 7,
   "metadata": {},
   "outputs": [],
   "source": [
    "X, y = datasets.make_blobs(\n",
    "        n_samples=50, n_features=2, centers=2, cluster_std=1.05, random_state=40\n",
    "    )\n",
    "y = np.where(y == 0, -1, 1)\n",
    "\n",
    "X_train, X_test, y_train, y_test = train_test_split(\n",
    "        X, y, test_size=0.2, random_state=123\n",
    " )"
   ]
  },
  {
   "cell_type": "code",
   "execution_count": 18,
   "metadata": {},
   "outputs": [],
   "source": [
    "clf = SVM()\n",
    "clf.fit(X_train, y_train)\n",
    "predictions = clf.predict(X_test)\n",
    "\n",
    "def accuracy(y_true, y_pred):\n",
    "    accuracy = np.sum(y_true == y_pred) / len(y_true)\n",
    "    return accuracy"
   ]
  },
  {
   "cell_type": "code",
   "execution_count": 22,
   "metadata": {},
   "outputs": [],
   "source": [
    "def visualize_svm():\n",
    "        def get_hyperplane_value(x, w, b, offset):\n",
    "            return (-w[0] * x + b + offset) / w[1]\n",
    "\n",
    "def accuracy(y_true, y_pred):\n",
    "    accuracy = np.sum(y_true == y_pred) / len(y_true)\n",
    "    return accuracy\n",
    "\n",
    "def visualize_svm():\n",
    "        def get_hyperplane_value(x, w, b, offset):\n",
    "            return (-w[0] * x + b + offset) / w[1]\n",
    "\n",
    "        fig = plt.figure()\n",
    "        ax = fig.add_subplot(1, 1, 1)\n",
    "        plt.scatter(X[:, 0], X[:, 1], marker=\"o\", c=y)\n",
    "\n",
    "        x0_1 = np.amin(X[:, 0])\n",
    "        x0_2 = np.amax(X[:, 0])\n",
    "\n",
    "        x1_1 = get_hyperplane_value(x0_1, clf.w, clf.b, 0)\n",
    "        x1_2 = get_hyperplane_value(x0_2, clf.w, clf.b, 0)\n",
    "\n",
    "        x1_1_m = get_hyperplane_value(x0_1, clf.w, clf.b, -1)\n",
    "        x1_2_m = get_hyperplane_value(x0_2, clf.w, clf.b, -1)\n",
    "\n",
    "        x1_1_p = get_hyperplane_value(x0_1, clf.w, clf.b, 1)\n",
    "        x1_2_p = get_hyperplane_value(x0_2, clf.w, clf.b, 1)\n",
    "\n",
    "        ax.plot([x0_1, x0_2], [x1_1, x1_2], \"y--\")\n",
    "        ax.plot([x0_1, x0_2], [x1_1_m, x1_2_m], \"k\")\n",
    "        ax.plot([x0_1, x0_2], [x1_1_p, x1_2_p], \"k\")\n",
    "\n",
    "        x1_min = np.amin(X[:, 1])\n",
    "        x1_max = np.amax(X[:, 1])\n",
    "        ax.set_ylim([x1_min - 3, x1_max + 3])\n",
    "\n",
    "        plt.show()"
   ]
  },
  {
   "cell_type": "code",
   "execution_count": 23,
   "metadata": {},
   "outputs": [
    {
     "name": "stdout",
     "output_type": "stream",
     "text": [
      "1.0\n"
     ]
    },
    {
     "data": {
      "image/png": "[encoded data removed]",
      "text/plain": [
       "<Figure size 640x480 with 1 Axes>"
      ]
     },
     "metadata": {},
     "output_type": "display_data"
    }
   ],
   "source": [
    "print(accuracy(y_test, predictions))\n",
    "visualize_svm()"
   ]
  }
 ],
 "metadata": {
  "kernelspec": {
   "display_name": "base",
   "language": "python",
   "name": "python3"
  },
  "language_info": {
   "codemirror_mode": {
    "name": "ipython",
    "version": 3
   },
   "file_extension": ".py",
   "mimetype": "text/x-python",
   "name": "python",
   "nbconvert_exporter": "python",
   "pygments_lexer": "ipython3",
   "version": "3.12.9"
  }
 },
 "nbformat": 4,
 "nbformat_minor": 2
}
